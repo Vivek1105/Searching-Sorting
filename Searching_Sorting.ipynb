{
 "cells": [
  {
   "cell_type": "markdown",
   "id": "2b268cce",
   "metadata": {},
   "source": [
    "## Binary search"
   ]
  },
  {
   "cell_type": "code",
   "execution_count": 5,
   "id": "17132718",
   "metadata": {},
   "outputs": [
    {
     "name": "stdout",
     "output_type": "stream",
     "text": [
      "4\n",
      "1 2 3 4\n",
      "5\n"
     ]
    },
    {
     "data": {
      "text/plain": [
       "-1"
      ]
     },
     "execution_count": 5,
     "metadata": {},
     "output_type": "execute_result"
    }
   ],
   "source": [
    "def binarysearch(arr,low,upp,x):\n",
    "    if (upp>=low):\n",
    "        mid=upp+low//2\n",
    "        \n",
    "        if arr[mid]==x:\n",
    "            return mid\n",
    "        \n",
    "        elif arr[mid] > x:\n",
    "            return binarysearch(arr,low,mid-1,x)\n",
    "        \n",
    "        else:\n",
    "            return binarysearch(arr,mid+1,upp,x)\n",
    "        \n",
    "    else:\n",
    "        return -1\n",
    "        \n",
    "    \n",
    "           \n",
    "n= int(input())\n",
    "arr= [int(x) for x in input().split()]\n",
    "x = int(input())\n",
    "binarysearch(arr,0,len(arr)-1,x)"
   ]
  },
  {
   "cell_type": "code",
   "execution_count": null,
   "id": "fa9c88da",
   "metadata": {},
   "outputs": [],
   "source": []
  },
  {
   "cell_type": "markdown",
   "id": "722329dd",
   "metadata": {},
   "source": [
    "## selction sort"
   ]
  },
  {
   "cell_type": "code",
   "execution_count": 6,
   "id": "3b614ebd",
   "metadata": {},
   "outputs": [],
   "source": [
    " def selection_sort (a):\n",
    "        for i in range (len(a)):\n",
    "            min_index= i\n",
    "            for j in range (i+1, len(a)):\n",
    "                if a[j] < a[min_index]:\n",
    "                    min_index = j\n",
    "            a[i], a[min_index] = a[min_index], a[i]\n",
    "        \n",
    "        return a\n",
    "            \n",
    "            "
   ]
  },
  {
   "cell_type": "code",
   "execution_count": 7,
   "id": "420f34ec",
   "metadata": {},
   "outputs": [
    {
     "data": {
      "text/plain": [
       "[5, 8, 8, 23, 23, 24, 78, 323]"
      ]
     },
     "execution_count": 7,
     "metadata": {},
     "output_type": "execute_result"
    }
   ],
   "source": [
    "selection_sort([5,24,78,8,23,323,23,8])"
   ]
  },
  {
   "cell_type": "code",
   "execution_count": null,
   "id": "d01583f0",
   "metadata": {},
   "outputs": [],
   "source": [
    " "
   ]
  },
  {
   "cell_type": "markdown",
   "id": "665e8985",
   "metadata": {},
   "source": [
    "## Bubble Sort"
   ]
  },
  {
   "cell_type": "code",
   "execution_count": 19,
   "id": "5ac7c6ff",
   "metadata": {},
   "outputs": [],
   "source": [
    "def bubble_sort(a):\n",
    "    for i in range (len(a)):\n",
    "        print(\"no of passes\", i)\n",
    "        for j in range(len(a)-1):\n",
    "            if(a[j])> a[j+1]:\n",
    "                a[j],a[j+1] =a[j+1] ,a[j]\n",
    "    return (a)\n",
    "        "
   ]
  },
  {
   "cell_type": "code",
   "execution_count": 20,
   "id": "cbcb6315",
   "metadata": {},
   "outputs": [
    {
     "name": "stdout",
     "output_type": "stream",
     "text": [
      "no of passes 0\n",
      "no of passes 1\n",
      "no of passes 2\n",
      "no of passes 3\n",
      "no of passes 4\n",
      "no of passes 5\n"
     ]
    },
    {
     "data": {
      "text/plain": [
       "[1, 4, 5, 7, 9, 24]"
      ]
     },
     "execution_count": 20,
     "metadata": {},
     "output_type": "execute_result"
    }
   ],
   "source": [
    "bubble_sort([1,4,9,7,5,24 ])"
   ]
  },
  {
   "cell_type": "code",
   "execution_count": 21,
   "id": "79e2552c",
   "metadata": {},
   "outputs": [],
   "source": [
    "# optimize bubble sort\n",
    "def bubble_sort(a):\n",
    "    for i in range (len(a)-1):\n",
    "        print(\"no of passes\", i)\n",
    "        for j in range(len(a)-1-i):\n",
    "            if(a[j])> a[j+1]:\n",
    "                a[j],a[j+1] =a[j+1] ,a[j]\n",
    "    return (a)"
   ]
  },
  {
   "cell_type": "code",
   "execution_count": 22,
   "id": "554252bd",
   "metadata": {},
   "outputs": [
    {
     "name": "stdout",
     "output_type": "stream",
     "text": [
      "no of passes 0\n",
      "no of passes 1\n",
      "no of passes 2\n",
      "no of passes 3\n",
      "no of passes 4\n"
     ]
    },
    {
     "data": {
      "text/plain": [
       "[1, 4, 5, 7, 9, 24]"
      ]
     },
     "execution_count": 22,
     "metadata": {},
     "output_type": "execute_result"
    }
   ],
   "source": [
    "bubble_sort([1,4,9,7,5,24 ])"
   ]
  },
  {
   "cell_type": "code",
   "execution_count": null,
   "id": "b5082c9d",
   "metadata": {},
   "outputs": [],
   "source": []
  },
  {
   "cell_type": "markdown",
   "id": "0e840335",
   "metadata": {},
   "source": [
    "## insertion sort"
   ]
  },
  {
   "cell_type": "code",
   "execution_count": 27,
   "id": "0ee467da",
   "metadata": {},
   "outputs": [
    {
     "name": "stdout",
     "output_type": "stream",
     "text": [
      "[1, 1, 2, 3, 3, 6, 6, 13]\n"
     ]
    }
   ],
   "source": [
    "def insertion_sort(a):\n",
    "    for i in range (1,len(a)):\n",
    "        j=i-1\n",
    "        temp = a[i]\n",
    "        while j >=0 and a[j] > temp :\n",
    "            a[j+1] = a[j]\n",
    "            j= j-1\n",
    "        a[j+1] = temp\n",
    "        \n",
    "a = [1,2,3,6,3,1,13,6]\n",
    "insertion_sort(a)\n",
    "print(a)\n",
    "    "
   ]
  },
  {
   "cell_type": "code",
   "execution_count": null,
   "id": "5617447e",
   "metadata": {},
   "outputs": [],
   "source": []
  },
  {
   "cell_type": "markdown",
   "id": "fd11280a",
   "metadata": {},
   "source": [
    "## merge two sorted array"
   ]
  },
  {
   "cell_type": "code",
   "execution_count": 29,
   "id": "189aeab8",
   "metadata": {},
   "outputs": [],
   "source": [
    "def merge (a1,a2):\n",
    "    i=0\n",
    "    j=0\n",
    "    len1 =len(a1)\n",
    "    len2 = len(a2)\n",
    "    new_arr = []\n",
    "    \n",
    "    while (i<len1 and j<len2):\n",
    "        if a1[i] < a2 [j]:\n",
    "            new_arr.append (a1[i])\n",
    "            i=i+1\n",
    "        else :\n",
    "            new_arr.append (a2[j])\n",
    "            j=j+1\n",
    "            \n",
    "    while (i<len1):\n",
    "        new_arr.append (a1[i])\n",
    "        i=i+1\n",
    "            \n",
    "    while (j<len2):\n",
    "        new_arr.append (a2[j])\n",
    "        j=j+1\n",
    "    \n",
    "    return new_arr\n",
    "        \n",
    "        "
   ]
  },
  {
   "cell_type": "code",
   "execution_count": 30,
   "id": "bf166c78",
   "metadata": {},
   "outputs": [
    {
     "data": {
      "text/plain": [
       "[2, 4, 4, 5, 5, 7, 7, 8, 9, 9, 10, 11]"
      ]
     },
     "execution_count": 30,
     "metadata": {},
     "output_type": "execute_result"
    }
   ],
   "source": [
    "a1 = [2,4,5,7,9,11]\n",
    "a2 = [4,5,7,8,9,10]\n",
    "merge(a1,a2)"
   ]
  },
  {
   "cell_type": "code",
   "execution_count": null,
   "id": "6f2c3614",
   "metadata": {},
   "outputs": [],
   "source": []
  },
  {
   "cell_type": "code",
   "execution_count": null,
   "id": "406c42a5",
   "metadata": {},
   "outputs": [],
   "source": []
  },
  {
   "cell_type": "markdown",
   "id": "91c0397f",
   "metadata": {},
   "source": [
    "## question "
   ]
  },
  {
   "cell_type": "code",
   "execution_count": 3,
   "id": "b730bc48",
   "metadata": {},
   "outputs": [
    {
     "name": "stdout",
     "output_type": "stream",
     "text": [
      "5\n",
      "2 0 7 0 0 83 7 3\n",
      "2 7 83 7 3 0 0 0 "
     ]
    }
   ],
   "source": [
    "# push zero in the end\n",
    "def pushzeroend(a):\n",
    "    tem=0\n",
    "    for i in range(len(a)):\n",
    "        if(a[i]!=0):\n",
    "            a[tem],a[i]=a[i],a[tem]\n",
    "            tem+=1\n",
    "    for j in range(0,len(a)):\n",
    "        print(a[j],end=\" \")\n",
    "    \n",
    "n=input()\n",
    "a=[int(i) for i in input().split()]\n",
    "pushzeroend(a)\n",
    "    \n",
    "    "
   ]
  },
  {
   "cell_type": "code",
   "execution_count": null,
   "id": "37f0bc78",
   "metadata": {},
   "outputs": [],
   "source": []
  },
  {
   "cell_type": "markdown",
   "id": "0585fa19",
   "metadata": {},
   "source": [
    "## left_rotating"
   ]
  },
  {
   "cell_type": "code",
   "execution_count": 17,
   "id": "ef9e8d67",
   "metadata": {},
   "outputs": [
    {
     "name": "stdout",
     "output_type": "stream",
     "text": [
      "1 2 3 4 5\n",
      "5\n",
      "1 2 3 4 5 "
     ]
    }
   ],
   "source": [
    "a = [int(i) for i in input().split()]\n",
    "shift=int(input())\n",
    "\n",
    "for i in range (0, shift):\n",
    "    temp = a[0]\n",
    "    \n",
    "    for j in range (0, len(a)-1):\n",
    "        a[j] = a[j+1]\n",
    "        \n",
    "    a[len(a)-1] = temp \n",
    "    \n",
    "for i in range (0, len(a)):\n",
    "    print(a[i],end=\" \")"
   ]
  },
  {
   "cell_type": "code",
   "execution_count": null,
   "id": "a88eb71b",
   "metadata": {},
   "outputs": [],
   "source": [
    "    "
   ]
  },
  {
   "cell_type": "markdown",
   "id": "c3fb480c",
   "metadata": {},
   "source": [
    "## 2nd largest number in array"
   ]
  },
  {
   "cell_type": "code",
   "execution_count": 2,
   "id": "1bf9f720",
   "metadata": {},
   "outputs": [
    {
     "data": {
      "text/plain": [
       "34"
      ]
     },
     "execution_count": 2,
     "metadata": {},
     "output_type": "execute_result"
    }
   ],
   "source": [
    "def print2largest(arr, arr_size):\n",
    "  \n",
    " \n",
    "    if (arr_size < 2): \n",
    "#         print(\" Invalid Input \")\n",
    "#         return\n",
    "  \n",
    "  \n",
    "         arr.sort\n",
    "  \n",
    " \n",
    "    for i in range(arr_size-2,\n",
    "                 -1, -1):\n",
    "        \n",
    "        if (arr[i] != arr[arr_size - 1]) :\n",
    "            return  arr[i]\n",
    "            \n",
    "            \n",
    "  \n",
    "    print(\"There is no second largest element\")\n",
    "arr = [12, 35, 1, 10, 34, 1]\n",
    "n = len(arr)\n",
    "print2largest(arr, n)"
   ]
  },
  {
   "cell_type": "code",
   "execution_count": null,
   "id": "fd062f67",
   "metadata": {},
   "outputs": [],
   "source": []
  },
  {
   "cell_type": "code",
   "execution_count": null,
   "id": "5ed6c34c",
   "metadata": {},
   "outputs": [],
   "source": []
  }
 ],
 "metadata": {
  "kernelspec": {
   "display_name": "Python 3",
   "language": "python",
   "name": "python3"
  },
  "language_info": {
   "codemirror_mode": {
    "name": "ipython",
    "version": 3
   },
   "file_extension": ".py",
   "mimetype": "text/x-python",
   "name": "python",
   "nbconvert_exporter": "python",
   "pygments_lexer": "ipython3",
   "version": "3.8.8"
  }
 },
 "nbformat": 4,
 "nbformat_minor": 5
}
